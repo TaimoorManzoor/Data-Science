{
  "nbformat": 4,
  "nbformat_minor": 0,
  "metadata": {
    "colab": {
      "provenance": []
    },
    "kernelspec": {
      "name": "python3",
      "display_name": "Python 3"
    },
    "language_info": {
      "name": "python"
    }
  },
  "cells": [
    {
      "cell_type": "markdown",
      "source": [
        "Note:I am using the columns and variable according to the scnario so it is possible my naming convension may be idential with others.\n",
        "\n",
        "\n"
      ],
      "metadata": {
        "id": "nfh4WgkQNu1_"
      }
    },
    {
      "cell_type": "markdown",
      "source": [
        "A. Find out the similarity among Countries based on X1=Travel_History_Yes, X2= Travel_History_No, and Y =Confirmed Cases. [8 marks]"
      ],
      "metadata": {
        "id": "XZe6Epp9FzwT"
      }
    },
    {
      "cell_type": "code",
      "source": [
        "# import the library\n",
        "import pandas as pd\n",
        "import numpy as np\n",
        "from sklearn.metrics.pairwise import cosine_similarity\n",
        "\n",
        "# Read or Load the dataset of Monkey_Pox_Cases_Worldwide\n",
        "Monkey_Pox_Cases_Worldwide_DataSet = pd.read_csv(\"Monkey_Pox_Cases_Worldwide.csv\")\n",
        "\n",
        "# Extract the needed columns in X1,X2,Y\n",
        "X1 = Monkey_Pox_Cases_Worldwide_DataSet['Travel_History_Yes'].values\n",
        "X2 = Monkey_Pox_Cases_Worldwide_DataSet['Travel_History_No'].values\n",
        "Y = Monkey_Pox_Cases_Worldwide_DataSet['Confirmed_Cases'].values"
      ],
      "metadata": {
        "id": "2_-EqbILFvTK"
      },
      "execution_count": 107,
      "outputs": []
    },
    {
      "cell_type": "code",
      "source": [
        "# Normalize the columns of dataset which is needed / or kind of scalling of column. \n",
        "# Formula\n",
        "# X=(X-X.min()) / (X.max() - X.min())\n",
        "X1 = (X1 - X1.min()) / (X1.max() - X1.min())\n",
        "X2 = (X2 - X2.min()) / (X2.max() - X2.min())\n",
        "Y = (Y - Y.min()) / (Y.max() - Y.min())\n",
        "\n",
        "# Here we calculate the cosine_similarity \n",
        "X = pd.DataFrame({'X1': X1, 'X2': X2, 'Y': Y})\n",
        "similarity_matrix = cosine_similarity(X)"
      ],
      "metadata": {
        "id": "KKKl57NXUSyl"
      },
      "execution_count": 108,
      "outputs": []
    },
    {
      "cell_type": "code",
      "source": [
        "# Now we create a dataframe with countries name and their similarity scores\n",
        "countries = Monkey_Pox_Cases_Worldwide_DataSet['Country']\n",
        "similarity_df = pd.DataFrame(similarity_matrix, index=countries, columns=countries)\n",
        "\n",
        "# Display the resulth.\n",
        "print(similarity_df)\n"
      ],
      "metadata": {
        "id": "xviUgGMQUSlC"
      },
      "execution_count": null,
      "outputs": []
    },
    {
      "cell_type": "markdown",
      "source": [
        "B. Summarize the Country from highest confirmed to lowest in a separate table based on clusters similarity among countries. Please name Cluster 1 as “A” for a set of countries and Cluster 2 as a country “B” [4 marks]"
      ],
      "metadata": {
        "id": "_iGPNcowF0_Z"
      }
    },
    {
      "cell_type": "code",
      "source": [
        "from sklearn.cluster import KMeans\n",
        "\n",
        "# Perform k-means clustering for k=2(only for 2 cluster A and B)\n",
        "k = 2\n",
        "kmeans = KMeans(n_clusters=k, random_state=42)\n",
        "# Here we are predict\n",
        "clusters = kmeans.fit_predict(X)\n",
        "\n"
      ],
      "metadata": {
        "id": "0GYRqiwcF2Tw"
      },
      "execution_count": null,
      "outputs": []
    },
    {
      "cell_type": "code",
      "source": [
        "# Add up cluster labels/tag to the dataset\n",
        "Monkey_Pox_Cases_Worldwide_DataSet['Cluster'] = ['A' if label == 0 else 'B' for label in clusters]\n",
        "\n",
        "# Summarize the countries based on confirmed cases within each cluster\n",
        "summary_table = Monkey_Pox_Cases_Worldwide_DataSet.sort_values('Confirmed_Cases', ascending=False)\n",
        "summary_table = summary_table[['Country', 'Cluster', 'Confirmed_Cases']]\n",
        "\n",
        "# Display the summary table\n",
        "print(summary_table)"
      ],
      "metadata": {
        "id": "xBEhJCExUEAJ"
      },
      "execution_count": null,
      "outputs": []
    },
    {
      "cell_type": "code",
      "source": [
        "import matplotlib.pyplot as plt\n",
        "\n",
        "# Scatter plot of the clusters\n",
        "plt.scatter(summary_table['Cluster'],summary_table['Confirmed_Cases'], c=clusters, cmap='viridis')\n",
        "plt.xlabel('Cluster')\n",
        "plt.ylabel('Confirmed_Cases')\n",
        "plt.title('K-means Clustering')\n",
        "plt.legend()\n",
        "plt.show()\n"
      ],
      "metadata": {
        "id": "gf9zREZpUC4e"
      },
      "execution_count": null,
      "outputs": []
    },
    {
      "cell_type": "markdown",
      "source": [
        "C. Please take two clusters and find the similarity among countries. \n",
        "\n"
      ],
      "metadata": {
        "id": "XKtS5E1sF-HG"
      }
    },
    {
      "cell_type": "code",
      "source": [
        "# Here we are calculate the  similarity in Cluster A\n",
        "cluster_A_indices = Monkey_Pox_Cases_Worldwide_DataSet[Monkey_Pox_Cases_Worldwide_DataSet['Cluster'] == 'A'].index\n",
        "cluster_A_similarity = similarity_matrix[np.ix_(cluster_A_indices, cluster_A_indices)]\n",
        "mean_similarity_A = cluster_A_similarity.mean()"
      ],
      "metadata": {
        "id": "X8wr7sJGF-qG"
      },
      "execution_count": 95,
      "outputs": []
    },
    {
      "cell_type": "code",
      "source": [
        "# Here we are calculate the  similarity in Cluster B\n",
        "cluster_B_indices = Monkey_Pox_Cases_Worldwide_DataSet[Monkey_Pox_Cases_Worldwide_DataSet['Cluster'] == 'B'].index\n",
        "cluster_B_similarity = similarity_matrix[np.ix_(cluster_B_indices, cluster_B_indices)]\n",
        "mean_similarity_B = cluster_B_similarity.mean()"
      ],
      "metadata": {
        "id": "cYtXHFWYTcFV"
      },
      "execution_count": 96,
      "outputs": []
    },
    {
      "cell_type": "code",
      "source": [
        "# Display the similarity within each cluster\n",
        "print(\"resemblance within Cluster A:\", mean_similarity_A)\n",
        "print(\"resemblance within Cluster B:\", mean_similarity_B)"
      ],
      "metadata": {
        "id": "ejU-M7hpTdqq"
      },
      "execution_count": null,
      "outputs": []
    },
    {
      "cell_type": "code",
      "source": [
        "import numpy as np \n",
        "import matplotlib.pyplot as plt \n",
        "  \n",
        "X = [0.1,0.2,0.3,0.4,0.5,0.6,0.7,0.8,0.9,1]  \n",
        "X_axis = np.arange(len(X))\n",
        "\n",
        "plt.bar(1, mean_similarity_B, label = 'mean_similarity_B')\n",
        "plt.bar(1, mean_similarity_A,  label = 'mean_similarity_A')\n",
        "  \n",
        "plt.xticks(X_axis, X)\n",
        "\n",
        "plt.legend()\n",
        "plt.show()"
      ],
      "metadata": {
        "id": "0axtNSVlVbvy"
      },
      "execution_count": null,
      "outputs": []
    }
  ]
}